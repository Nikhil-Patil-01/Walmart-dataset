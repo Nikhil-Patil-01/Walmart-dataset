{
 "cells": [
  {
   "cell_type": "markdown",
   "id": "d859438c",
   "metadata": {},
   "source": [
    "# Walmart Data"
   ]
  },
  {
   "cell_type": "code",
   "execution_count": 1,
   "id": "7647752d",
   "metadata": {},
   "outputs": [],
   "source": [
    "import pandas as pd\n",
    "import numpy as np\n",
    "import seaborn as sns\n",
    "import matplotlib.pyplot as plt\n"
   ]
  },
  {
   "cell_type": "markdown",
   "id": "a9b11dc5",
   "metadata": {},
   "source": [
    "## Pre- Processing"
   ]
  },
  {
   "cell_type": "code",
   "execution_count": 2,
   "id": "e63a1a01",
   "metadata": {},
   "outputs": [],
   "source": [
    "df= pd.read_csv(r\"C:\\Users\\nikhi\\Downloads\\Walmart.csv\")"
   ]
  },
  {
   "cell_type": "code",
   "execution_count": 3,
   "id": "cb2381b1",
   "metadata": {},
   "outputs": [
    {
     "data": {
      "text/html": [
       "<div>\n",
       "<style scoped>\n",
       "    .dataframe tbody tr th:only-of-type {\n",
       "        vertical-align: middle;\n",
       "    }\n",
       "\n",
       "    .dataframe tbody tr th {\n",
       "        vertical-align: top;\n",
       "    }\n",
       "\n",
       "    .dataframe thead th {\n",
       "        text-align: right;\n",
       "    }\n",
       "</style>\n",
       "<table border=\"1\" class=\"dataframe\">\n",
       "  <thead>\n",
       "    <tr style=\"text-align: right;\">\n",
       "      <th></th>\n",
       "      <th>Order ID</th>\n",
       "      <th>Order Date</th>\n",
       "      <th>Ship Date</th>\n",
       "      <th>Customer Name</th>\n",
       "      <th>Country</th>\n",
       "      <th>City</th>\n",
       "      <th>State</th>\n",
       "      <th>Category</th>\n",
       "      <th>Product Name</th>\n",
       "      <th>Sales</th>\n",
       "      <th>Quantity</th>\n",
       "      <th>Profit</th>\n",
       "    </tr>\n",
       "  </thead>\n",
       "  <tbody>\n",
       "    <tr>\n",
       "      <th>0</th>\n",
       "      <td>CA-2013-138688</td>\n",
       "      <td>13-06-2013</td>\n",
       "      <td>17-06-2013</td>\n",
       "      <td>Darrin Van Huff</td>\n",
       "      <td>United States</td>\n",
       "      <td>Los Angeles</td>\n",
       "      <td>California</td>\n",
       "      <td>Labels</td>\n",
       "      <td>Self-Adhesive Address Labels for Typewriters b...</td>\n",
       "      <td>14.62</td>\n",
       "      <td>2.0</td>\n",
       "      <td>6.87</td>\n",
       "    </tr>\n",
       "    <tr>\n",
       "      <th>1</th>\n",
       "      <td>CA-2011-115812</td>\n",
       "      <td>09-06-2011</td>\n",
       "      <td>14-06-2011</td>\n",
       "      <td>Brosina Hoffman</td>\n",
       "      <td>United States</td>\n",
       "      <td>Los Angeles</td>\n",
       "      <td>California</td>\n",
       "      <td>Furnishings</td>\n",
       "      <td>Eldon Expressions Wood and Plastic Desk Access...</td>\n",
       "      <td>48.86</td>\n",
       "      <td>7.0</td>\n",
       "      <td>14.17</td>\n",
       "    </tr>\n",
       "    <tr>\n",
       "      <th>2</th>\n",
       "      <td>CA-2011-115812</td>\n",
       "      <td>09-06-2011</td>\n",
       "      <td>14-06-2011</td>\n",
       "      <td>Brosina Hoffman</td>\n",
       "      <td>United States</td>\n",
       "      <td>Los Angeles</td>\n",
       "      <td>California</td>\n",
       "      <td>Art</td>\n",
       "      <td>Newell 322</td>\n",
       "      <td>7.28</td>\n",
       "      <td>4.0</td>\n",
       "      <td>1.97</td>\n",
       "    </tr>\n",
       "    <tr>\n",
       "      <th>3</th>\n",
       "      <td>CA-2011-115812</td>\n",
       "      <td>09-06-2011</td>\n",
       "      <td>14-06-2011</td>\n",
       "      <td>Brosina Hoffman</td>\n",
       "      <td>United States</td>\n",
       "      <td>Los Angeles</td>\n",
       "      <td>California</td>\n",
       "      <td>Phones</td>\n",
       "      <td>Mitel 5320 IP Phone VoIP phone</td>\n",
       "      <td>907.15</td>\n",
       "      <td>4.0</td>\n",
       "      <td>90.72</td>\n",
       "    </tr>\n",
       "    <tr>\n",
       "      <th>4</th>\n",
       "      <td>CA-2011-115812</td>\n",
       "      <td>09-06-2011</td>\n",
       "      <td>14-06-2011</td>\n",
       "      <td>Brosina Hoffman</td>\n",
       "      <td>United States</td>\n",
       "      <td>Los Angeles</td>\n",
       "      <td>California</td>\n",
       "      <td>Binders</td>\n",
       "      <td>DXL Angle-View Binders with Locking Rings by S...</td>\n",
       "      <td>18.50</td>\n",
       "      <td>3.0</td>\n",
       "      <td>5.78</td>\n",
       "    </tr>\n",
       "  </tbody>\n",
       "</table>\n",
       "</div>"
      ],
      "text/plain": [
       "         Order ID  Order Date   Ship Date    Customer Name        Country  \\\n",
       "0  CA-2013-138688  13-06-2013  17-06-2013  Darrin Van Huff  United States   \n",
       "1  CA-2011-115812  09-06-2011  14-06-2011  Brosina Hoffman  United States   \n",
       "2  CA-2011-115812  09-06-2011  14-06-2011  Brosina Hoffman  United States   \n",
       "3  CA-2011-115812  09-06-2011  14-06-2011  Brosina Hoffman  United States   \n",
       "4  CA-2011-115812  09-06-2011  14-06-2011  Brosina Hoffman  United States   \n",
       "\n",
       "          City       State     Category  \\\n",
       "0  Los Angeles  California       Labels   \n",
       "1  Los Angeles  California  Furnishings   \n",
       "2  Los Angeles  California          Art   \n",
       "3  Los Angeles  California       Phones   \n",
       "4  Los Angeles  California      Binders   \n",
       "\n",
       "                                        Product Name   Sales  Quantity  Profit  \n",
       "0  Self-Adhesive Address Labels for Typewriters b...   14.62       2.0    6.87  \n",
       "1  Eldon Expressions Wood and Plastic Desk Access...   48.86       7.0   14.17  \n",
       "2                                         Newell 322    7.28       4.0    1.97  \n",
       "3                     Mitel 5320 IP Phone VoIP phone  907.15       4.0   90.72  \n",
       "4  DXL Angle-View Binders with Locking Rings by S...   18.50       3.0    5.78  "
      ]
     },
     "execution_count": 3,
     "metadata": {},
     "output_type": "execute_result"
    }
   ],
   "source": [
    "df.head()"
   ]
  },
  {
   "cell_type": "code",
   "execution_count": 4,
   "id": "00033261",
   "metadata": {},
   "outputs": [
    {
     "data": {
      "text/html": [
       "<div>\n",
       "<style scoped>\n",
       "    .dataframe tbody tr th:only-of-type {\n",
       "        vertical-align: middle;\n",
       "    }\n",
       "\n",
       "    .dataframe tbody tr th {\n",
       "        vertical-align: top;\n",
       "    }\n",
       "\n",
       "    .dataframe thead th {\n",
       "        text-align: right;\n",
       "    }\n",
       "</style>\n",
       "<table border=\"1\" class=\"dataframe\">\n",
       "  <thead>\n",
       "    <tr style=\"text-align: right;\">\n",
       "      <th></th>\n",
       "      <th>Order ID</th>\n",
       "      <th>Order Date</th>\n",
       "      <th>Ship Date</th>\n",
       "      <th>Customer Name</th>\n",
       "      <th>Country</th>\n",
       "      <th>City</th>\n",
       "      <th>State</th>\n",
       "      <th>Category</th>\n",
       "      <th>Product Name</th>\n",
       "      <th>Sales</th>\n",
       "      <th>Quantity</th>\n",
       "      <th>Profit</th>\n",
       "    </tr>\n",
       "  </thead>\n",
       "  <tbody>\n",
       "    <tr>\n",
       "      <th>3198</th>\n",
       "      <td>CA-2013-125794</td>\n",
       "      <td>30-09-2013</td>\n",
       "      <td>04-10-2013</td>\n",
       "      <td>Maris LaWare</td>\n",
       "      <td>United States</td>\n",
       "      <td>Los Angeles</td>\n",
       "      <td>California</td>\n",
       "      <td>Accessories</td>\n",
       "      <td>Memorex Mini Travel Drive 64 GB USB 2.0 Flash ...</td>\n",
       "      <td>36.24</td>\n",
       "      <td>1.0</td>\n",
       "      <td>15.22</td>\n",
       "    </tr>\n",
       "    <tr>\n",
       "      <th>3199</th>\n",
       "      <td>CA-2014-121258</td>\n",
       "      <td>27-02-2014</td>\n",
       "      <td>04-03-2014</td>\n",
       "      <td>Dave Brooks</td>\n",
       "      <td>United States</td>\n",
       "      <td>Costa Mesa</td>\n",
       "      <td>California</td>\n",
       "      <td>Furnishings</td>\n",
       "      <td>Tenex B1-RE Series Chair Mats for Low Pile Car...</td>\n",
       "      <td>91.96</td>\n",
       "      <td>2.0</td>\n",
       "      <td>15.63</td>\n",
       "    </tr>\n",
       "    <tr>\n",
       "      <th>3200</th>\n",
       "      <td>CA-2014-121258</td>\n",
       "      <td>27-02-2014</td>\n",
       "      <td>04-03-2014</td>\n",
       "      <td>Dave Brooks</td>\n",
       "      <td>United States</td>\n",
       "      <td>Costa Mesa</td>\n",
       "      <td>California</td>\n",
       "      <td>Phones</td>\n",
       "      <td>Aastra 57i VoIP phone</td>\n",
       "      <td>258.58</td>\n",
       "      <td>2.0</td>\n",
       "      <td>19.39</td>\n",
       "    </tr>\n",
       "    <tr>\n",
       "      <th>3201</th>\n",
       "      <td>CA-2014-121258</td>\n",
       "      <td>27-02-2014</td>\n",
       "      <td>04-03-2014</td>\n",
       "      <td>Dave Brooks</td>\n",
       "      <td>United States</td>\n",
       "      <td>Costa Mesa</td>\n",
       "      <td>California</td>\n",
       "      <td>Paper</td>\n",
       "      <td>It's Hot Message Books with Stickers, 2 3/4\" x 5\"</td>\n",
       "      <td>29.60</td>\n",
       "      <td>4.0</td>\n",
       "      <td>13.32</td>\n",
       "    </tr>\n",
       "    <tr>\n",
       "      <th>3202</th>\n",
       "      <td>CA-2014-119914</td>\n",
       "      <td>05-05-2014</td>\n",
       "      <td>10-05-2014</td>\n",
       "      <td>Chris Cortes</td>\n",
       "      <td>United States</td>\n",
       "      <td>Westminster</td>\n",
       "      <td>California</td>\n",
       "      <td>Appliances</td>\n",
       "      <td>Acco 7-Outlet Masterpiece Power Center, Wihtou...</td>\n",
       "      <td>243.16</td>\n",
       "      <td>2.0</td>\n",
       "      <td>72.95</td>\n",
       "    </tr>\n",
       "  </tbody>\n",
       "</table>\n",
       "</div>"
      ],
      "text/plain": [
       "            Order ID  Order Date   Ship Date Customer Name        Country  \\\n",
       "3198  CA-2013-125794  30-09-2013  04-10-2013  Maris LaWare  United States   \n",
       "3199  CA-2014-121258  27-02-2014  04-03-2014   Dave Brooks  United States   \n",
       "3200  CA-2014-121258  27-02-2014  04-03-2014   Dave Brooks  United States   \n",
       "3201  CA-2014-121258  27-02-2014  04-03-2014   Dave Brooks  United States   \n",
       "3202  CA-2014-119914  05-05-2014  10-05-2014  Chris Cortes  United States   \n",
       "\n",
       "             City       State     Category  \\\n",
       "3198  Los Angeles  California  Accessories   \n",
       "3199   Costa Mesa  California  Furnishings   \n",
       "3200   Costa Mesa  California       Phones   \n",
       "3201   Costa Mesa  California        Paper   \n",
       "3202  Westminster  California   Appliances   \n",
       "\n",
       "                                           Product Name   Sales  Quantity  \\\n",
       "3198  Memorex Mini Travel Drive 64 GB USB 2.0 Flash ...   36.24       1.0   \n",
       "3199  Tenex B1-RE Series Chair Mats for Low Pile Car...   91.96       2.0   \n",
       "3200                              Aastra 57i VoIP phone  258.58       2.0   \n",
       "3201  It's Hot Message Books with Stickers, 2 3/4\" x 5\"   29.60       4.0   \n",
       "3202  Acco 7-Outlet Masterpiece Power Center, Wihtou...  243.16       2.0   \n",
       "\n",
       "      Profit  \n",
       "3198   15.22  \n",
       "3199   15.63  \n",
       "3200   19.39  \n",
       "3201   13.32  \n",
       "3202   72.95  "
      ]
     },
     "execution_count": 4,
     "metadata": {},
     "output_type": "execute_result"
    }
   ],
   "source": [
    "df.tail()"
   ]
  },
  {
   "cell_type": "code",
   "execution_count": 5,
   "id": "a89788ce",
   "metadata": {},
   "outputs": [
    {
     "data": {
      "text/plain": [
       "(3203, 12)"
      ]
     },
     "execution_count": 5,
     "metadata": {},
     "output_type": "execute_result"
    }
   ],
   "source": [
    "df.shape"
   ]
  },
  {
   "cell_type": "code",
   "execution_count": 6,
   "id": "5a5c721e",
   "metadata": {},
   "outputs": [
    {
     "data": {
      "text/plain": [
       "2"
      ]
     },
     "execution_count": 6,
     "metadata": {},
     "output_type": "execute_result"
    }
   ],
   "source": [
    "df.ndim"
   ]
  },
  {
   "cell_type": "code",
   "execution_count": 7,
   "id": "0b78c58d",
   "metadata": {},
   "outputs": [
    {
     "data": {
      "text/plain": [
       "38436"
      ]
     },
     "execution_count": 7,
     "metadata": {},
     "output_type": "execute_result"
    }
   ],
   "source": [
    "df.size"
   ]
  },
  {
   "cell_type": "code",
   "execution_count": 8,
   "id": "444bc607",
   "metadata": {},
   "outputs": [
    {
     "data": {
      "text/html": [
       "<div>\n",
       "<style scoped>\n",
       "    .dataframe tbody tr th:only-of-type {\n",
       "        vertical-align: middle;\n",
       "    }\n",
       "\n",
       "    .dataframe tbody tr th {\n",
       "        vertical-align: top;\n",
       "    }\n",
       "\n",
       "    .dataframe thead th {\n",
       "        text-align: right;\n",
       "    }\n",
       "</style>\n",
       "<table border=\"1\" class=\"dataframe\">\n",
       "  <thead>\n",
       "    <tr style=\"text-align: right;\">\n",
       "      <th></th>\n",
       "      <th>Sales</th>\n",
       "      <th>Quantity</th>\n",
       "      <th>Profit</th>\n",
       "    </tr>\n",
       "  </thead>\n",
       "  <tbody>\n",
       "    <tr>\n",
       "      <th>Sales</th>\n",
       "      <td>275495.771419</td>\n",
       "      <td>254.747177</td>\n",
       "      <td>59170.278949</td>\n",
       "    </tr>\n",
       "    <tr>\n",
       "      <th>Quantity</th>\n",
       "      <td>254.747177</td>\n",
       "      <td>5.111881</td>\n",
       "      <td>36.704019</td>\n",
       "    </tr>\n",
       "    <tr>\n",
       "      <th>Profit</th>\n",
       "      <td>59170.278949</td>\n",
       "      <td>36.704019</td>\n",
       "      <td>30313.997690</td>\n",
       "    </tr>\n",
       "  </tbody>\n",
       "</table>\n",
       "</div>"
      ],
      "text/plain": [
       "                  Sales    Quantity        Profit\n",
       "Sales     275495.771419  254.747177  59170.278949\n",
       "Quantity     254.747177    5.111881     36.704019\n",
       "Profit     59170.278949   36.704019  30313.997690"
      ]
     },
     "execution_count": 8,
     "metadata": {},
     "output_type": "execute_result"
    }
   ],
   "source": [
    "df.cov()"
   ]
  },
  {
   "cell_type": "code",
   "execution_count": 9,
   "id": "5a6b965b",
   "metadata": {},
   "outputs": [
    {
     "data": {
      "text/html": [
       "<div>\n",
       "<style scoped>\n",
       "    .dataframe tbody tr th:only-of-type {\n",
       "        vertical-align: middle;\n",
       "    }\n",
       "\n",
       "    .dataframe tbody tr th {\n",
       "        vertical-align: top;\n",
       "    }\n",
       "\n",
       "    .dataframe thead th {\n",
       "        text-align: right;\n",
       "    }\n",
       "</style>\n",
       "<table border=\"1\" class=\"dataframe\">\n",
       "  <thead>\n",
       "    <tr style=\"text-align: right;\">\n",
       "      <th></th>\n",
       "      <th>Sales</th>\n",
       "      <th>Quantity</th>\n",
       "      <th>Profit</th>\n",
       "    </tr>\n",
       "  </thead>\n",
       "  <tbody>\n",
       "    <tr>\n",
       "      <th>Sales</th>\n",
       "      <td>1.000000</td>\n",
       "      <td>0.214665</td>\n",
       "      <td>0.647477</td>\n",
       "    </tr>\n",
       "    <tr>\n",
       "      <th>Quantity</th>\n",
       "      <td>0.214665</td>\n",
       "      <td>1.000000</td>\n",
       "      <td>0.093240</td>\n",
       "    </tr>\n",
       "    <tr>\n",
       "      <th>Profit</th>\n",
       "      <td>0.647477</td>\n",
       "      <td>0.093240</td>\n",
       "      <td>1.000000</td>\n",
       "    </tr>\n",
       "  </tbody>\n",
       "</table>\n",
       "</div>"
      ],
      "text/plain": [
       "             Sales  Quantity    Profit\n",
       "Sales     1.000000  0.214665  0.647477\n",
       "Quantity  0.214665  1.000000  0.093240\n",
       "Profit    0.647477  0.093240  1.000000"
      ]
     },
     "execution_count": 9,
     "metadata": {},
     "output_type": "execute_result"
    }
   ],
   "source": [
    "df.corr()"
   ]
  },
  {
   "cell_type": "code",
   "execution_count": 10,
   "id": "54eb1486",
   "metadata": {},
   "outputs": [
    {
     "data": {
      "text/plain": [
       "Sales       226.493266\n",
       "Quantity      3.828910\n",
       "Profit       33.849138\n",
       "dtype: float64"
      ]
     },
     "execution_count": 10,
     "metadata": {},
     "output_type": "execute_result"
    }
   ],
   "source": [
    "df.mean()"
   ]
  },
  {
   "cell_type": "code",
   "execution_count": 11,
   "id": "4d50a0ce",
   "metadata": {},
   "outputs": [
    {
     "data": {
      "text/plain": [
       "Sales       60.84\n",
       "Quantity     3.00\n",
       "Profit      11.17\n",
       "dtype: float64"
      ]
     },
     "execution_count": 11,
     "metadata": {},
     "output_type": "execute_result"
    }
   ],
   "source": [
    "df.median()"
   ]
  },
  {
   "cell_type": "code",
   "execution_count": 12,
   "id": "86ecd554",
   "metadata": {},
   "outputs": [
    {
     "name": "stdout",
     "output_type": "stream",
     "text": [
      "<class 'pandas.core.frame.DataFrame'>\n",
      "RangeIndex: 3203 entries, 0 to 3202\n",
      "Data columns (total 12 columns):\n",
      " #   Column         Non-Null Count  Dtype  \n",
      "---  ------         --------------  -----  \n",
      " 0   Order ID       3203 non-null   object \n",
      " 1   Order Date     3203 non-null   object \n",
      " 2   Ship Date      3203 non-null   object \n",
      " 3   Customer Name  3203 non-null   object \n",
      " 4   Country        3203 non-null   object \n",
      " 5   City           3203 non-null   object \n",
      " 6   State          3203 non-null   object \n",
      " 7   Category       3203 non-null   object \n",
      " 8   Product Name   3203 non-null   object \n",
      " 9   Sales          3203 non-null   float64\n",
      " 10  Quantity       3203 non-null   float64\n",
      " 11  Profit         3203 non-null   float64\n",
      "dtypes: float64(3), object(9)\n",
      "memory usage: 300.4+ KB\n"
     ]
    }
   ],
   "source": [
    "df.info()"
   ]
  },
  {
   "cell_type": "code",
   "execution_count": 13,
   "id": "9d7655bd",
   "metadata": {},
   "outputs": [
    {
     "data": {
      "text/html": [
       "<div>\n",
       "<style scoped>\n",
       "    .dataframe tbody tr th:only-of-type {\n",
       "        vertical-align: middle;\n",
       "    }\n",
       "\n",
       "    .dataframe tbody tr th {\n",
       "        vertical-align: top;\n",
       "    }\n",
       "\n",
       "    .dataframe thead th {\n",
       "        text-align: right;\n",
       "    }\n",
       "</style>\n",
       "<table border=\"1\" class=\"dataframe\">\n",
       "  <thead>\n",
       "    <tr style=\"text-align: right;\">\n",
       "      <th></th>\n",
       "      <th>Order ID</th>\n",
       "      <th>Order Date</th>\n",
       "      <th>Ship Date</th>\n",
       "      <th>Customer Name</th>\n",
       "      <th>Country</th>\n",
       "      <th>City</th>\n",
       "      <th>State</th>\n",
       "      <th>Category</th>\n",
       "      <th>Product Name</th>\n",
       "      <th>Sales</th>\n",
       "      <th>Quantity</th>\n",
       "      <th>Profit</th>\n",
       "    </tr>\n",
       "  </thead>\n",
       "  <tbody>\n",
       "    <tr>\n",
       "      <th>0</th>\n",
       "      <td>False</td>\n",
       "      <td>False</td>\n",
       "      <td>False</td>\n",
       "      <td>False</td>\n",
       "      <td>False</td>\n",
       "      <td>False</td>\n",
       "      <td>False</td>\n",
       "      <td>False</td>\n",
       "      <td>False</td>\n",
       "      <td>False</td>\n",
       "      <td>False</td>\n",
       "      <td>False</td>\n",
       "    </tr>\n",
       "    <tr>\n",
       "      <th>1</th>\n",
       "      <td>False</td>\n",
       "      <td>False</td>\n",
       "      <td>False</td>\n",
       "      <td>False</td>\n",
       "      <td>False</td>\n",
       "      <td>False</td>\n",
       "      <td>False</td>\n",
       "      <td>False</td>\n",
       "      <td>False</td>\n",
       "      <td>False</td>\n",
       "      <td>False</td>\n",
       "      <td>False</td>\n",
       "    </tr>\n",
       "    <tr>\n",
       "      <th>2</th>\n",
       "      <td>False</td>\n",
       "      <td>False</td>\n",
       "      <td>False</td>\n",
       "      <td>False</td>\n",
       "      <td>False</td>\n",
       "      <td>False</td>\n",
       "      <td>False</td>\n",
       "      <td>False</td>\n",
       "      <td>False</td>\n",
       "      <td>False</td>\n",
       "      <td>False</td>\n",
       "      <td>False</td>\n",
       "    </tr>\n",
       "    <tr>\n",
       "      <th>3</th>\n",
       "      <td>False</td>\n",
       "      <td>False</td>\n",
       "      <td>False</td>\n",
       "      <td>False</td>\n",
       "      <td>False</td>\n",
       "      <td>False</td>\n",
       "      <td>False</td>\n",
       "      <td>False</td>\n",
       "      <td>False</td>\n",
       "      <td>False</td>\n",
       "      <td>False</td>\n",
       "      <td>False</td>\n",
       "    </tr>\n",
       "    <tr>\n",
       "      <th>4</th>\n",
       "      <td>False</td>\n",
       "      <td>False</td>\n",
       "      <td>False</td>\n",
       "      <td>False</td>\n",
       "      <td>False</td>\n",
       "      <td>False</td>\n",
       "      <td>False</td>\n",
       "      <td>False</td>\n",
       "      <td>False</td>\n",
       "      <td>False</td>\n",
       "      <td>False</td>\n",
       "      <td>False</td>\n",
       "    </tr>\n",
       "    <tr>\n",
       "      <th>...</th>\n",
       "      <td>...</td>\n",
       "      <td>...</td>\n",
       "      <td>...</td>\n",
       "      <td>...</td>\n",
       "      <td>...</td>\n",
       "      <td>...</td>\n",
       "      <td>...</td>\n",
       "      <td>...</td>\n",
       "      <td>...</td>\n",
       "      <td>...</td>\n",
       "      <td>...</td>\n",
       "      <td>...</td>\n",
       "    </tr>\n",
       "    <tr>\n",
       "      <th>3198</th>\n",
       "      <td>False</td>\n",
       "      <td>False</td>\n",
       "      <td>False</td>\n",
       "      <td>False</td>\n",
       "      <td>False</td>\n",
       "      <td>False</td>\n",
       "      <td>False</td>\n",
       "      <td>False</td>\n",
       "      <td>False</td>\n",
       "      <td>False</td>\n",
       "      <td>False</td>\n",
       "      <td>False</td>\n",
       "    </tr>\n",
       "    <tr>\n",
       "      <th>3199</th>\n",
       "      <td>False</td>\n",
       "      <td>False</td>\n",
       "      <td>False</td>\n",
       "      <td>False</td>\n",
       "      <td>False</td>\n",
       "      <td>False</td>\n",
       "      <td>False</td>\n",
       "      <td>False</td>\n",
       "      <td>False</td>\n",
       "      <td>False</td>\n",
       "      <td>False</td>\n",
       "      <td>False</td>\n",
       "    </tr>\n",
       "    <tr>\n",
       "      <th>3200</th>\n",
       "      <td>False</td>\n",
       "      <td>False</td>\n",
       "      <td>False</td>\n",
       "      <td>False</td>\n",
       "      <td>False</td>\n",
       "      <td>False</td>\n",
       "      <td>False</td>\n",
       "      <td>False</td>\n",
       "      <td>False</td>\n",
       "      <td>False</td>\n",
       "      <td>False</td>\n",
       "      <td>False</td>\n",
       "    </tr>\n",
       "    <tr>\n",
       "      <th>3201</th>\n",
       "      <td>False</td>\n",
       "      <td>False</td>\n",
       "      <td>False</td>\n",
       "      <td>False</td>\n",
       "      <td>False</td>\n",
       "      <td>False</td>\n",
       "      <td>False</td>\n",
       "      <td>False</td>\n",
       "      <td>False</td>\n",
       "      <td>False</td>\n",
       "      <td>False</td>\n",
       "      <td>False</td>\n",
       "    </tr>\n",
       "    <tr>\n",
       "      <th>3202</th>\n",
       "      <td>False</td>\n",
       "      <td>False</td>\n",
       "      <td>False</td>\n",
       "      <td>False</td>\n",
       "      <td>False</td>\n",
       "      <td>False</td>\n",
       "      <td>False</td>\n",
       "      <td>False</td>\n",
       "      <td>False</td>\n",
       "      <td>False</td>\n",
       "      <td>False</td>\n",
       "      <td>False</td>\n",
       "    </tr>\n",
       "  </tbody>\n",
       "</table>\n",
       "<p>3203 rows × 12 columns</p>\n",
       "</div>"
      ],
      "text/plain": [
       "      Order ID  Order Date  Ship Date  Customer Name  Country   City  State  \\\n",
       "0        False       False      False          False    False  False  False   \n",
       "1        False       False      False          False    False  False  False   \n",
       "2        False       False      False          False    False  False  False   \n",
       "3        False       False      False          False    False  False  False   \n",
       "4        False       False      False          False    False  False  False   \n",
       "...        ...         ...        ...            ...      ...    ...    ...   \n",
       "3198     False       False      False          False    False  False  False   \n",
       "3199     False       False      False          False    False  False  False   \n",
       "3200     False       False      False          False    False  False  False   \n",
       "3201     False       False      False          False    False  False  False   \n",
       "3202     False       False      False          False    False  False  False   \n",
       "\n",
       "      Category  Product Name  Sales  Quantity  Profit  \n",
       "0        False         False  False     False   False  \n",
       "1        False         False  False     False   False  \n",
       "2        False         False  False     False   False  \n",
       "3        False         False  False     False   False  \n",
       "4        False         False  False     False   False  \n",
       "...        ...           ...    ...       ...     ...  \n",
       "3198     False         False  False     False   False  \n",
       "3199     False         False  False     False   False  \n",
       "3200     False         False  False     False   False  \n",
       "3201     False         False  False     False   False  \n",
       "3202     False         False  False     False   False  \n",
       "\n",
       "[3203 rows x 12 columns]"
      ]
     },
     "execution_count": 13,
     "metadata": {},
     "output_type": "execute_result"
    }
   ],
   "source": [
    "df.isnull()"
   ]
  },
  {
   "cell_type": "code",
   "execution_count": 14,
   "id": "700c2eaf",
   "metadata": {},
   "outputs": [
    {
     "data": {
      "text/plain": [
       "Order ID         0\n",
       "Order Date       0\n",
       "Ship Date        0\n",
       "Customer Name    0\n",
       "Country          0\n",
       "City             0\n",
       "State            0\n",
       "Category         0\n",
       "Product Name     0\n",
       "Sales            0\n",
       "Quantity         0\n",
       "Profit           0\n",
       "dtype: int64"
      ]
     },
     "execution_count": 14,
     "metadata": {},
     "output_type": "execute_result"
    }
   ],
   "source": [
    "df.isna().sum()"
   ]
  },
  {
   "cell_type": "code",
   "execution_count": 15,
   "id": "59300a9c",
   "metadata": {},
   "outputs": [
    {
     "data": {
      "text/plain": [
       "Index(['Order ID', 'Order Date', 'Ship Date', 'Customer Name', 'Country',\n",
       "       'City', 'State', 'Category', 'Product Name', 'Sales', 'Quantity',\n",
       "       'Profit'],\n",
       "      dtype='object')"
      ]
     },
     "execution_count": 15,
     "metadata": {},
     "output_type": "execute_result"
    }
   ],
   "source": [
    "df.columns"
   ]
  },
  {
   "cell_type": "code",
   "execution_count": 16,
   "id": "bf6b79a9",
   "metadata": {},
   "outputs": [
    {
     "data": {
      "text/html": [
       "<div>\n",
       "<style scoped>\n",
       "    .dataframe tbody tr th:only-of-type {\n",
       "        vertical-align: middle;\n",
       "    }\n",
       "\n",
       "    .dataframe tbody tr th {\n",
       "        vertical-align: top;\n",
       "    }\n",
       "\n",
       "    .dataframe thead th {\n",
       "        text-align: right;\n",
       "    }\n",
       "</style>\n",
       "<table border=\"1\" class=\"dataframe\">\n",
       "  <thead>\n",
       "    <tr style=\"text-align: right;\">\n",
       "      <th></th>\n",
       "      <th>Sales</th>\n",
       "      <th>Quantity</th>\n",
       "      <th>Profit</th>\n",
       "    </tr>\n",
       "  </thead>\n",
       "  <tbody>\n",
       "    <tr>\n",
       "      <th>count</th>\n",
       "      <td>3203.000000</td>\n",
       "      <td>3203.000000</td>\n",
       "      <td>3203.000000</td>\n",
       "    </tr>\n",
       "    <tr>\n",
       "      <th>mean</th>\n",
       "      <td>226.493266</td>\n",
       "      <td>3.828910</td>\n",
       "      <td>33.849138</td>\n",
       "    </tr>\n",
       "    <tr>\n",
       "      <th>std</th>\n",
       "      <td>524.876911</td>\n",
       "      <td>2.260947</td>\n",
       "      <td>174.109155</td>\n",
       "    </tr>\n",
       "    <tr>\n",
       "      <th>min</th>\n",
       "      <td>0.990000</td>\n",
       "      <td>1.000000</td>\n",
       "      <td>-3399.980000</td>\n",
       "    </tr>\n",
       "    <tr>\n",
       "      <th>25%</th>\n",
       "      <td>19.440000</td>\n",
       "      <td>2.000000</td>\n",
       "      <td>3.850000</td>\n",
       "    </tr>\n",
       "    <tr>\n",
       "      <th>50%</th>\n",
       "      <td>60.840000</td>\n",
       "      <td>3.000000</td>\n",
       "      <td>11.170000</td>\n",
       "    </tr>\n",
       "    <tr>\n",
       "      <th>75%</th>\n",
       "      <td>215.810000</td>\n",
       "      <td>5.000000</td>\n",
       "      <td>33.000000</td>\n",
       "    </tr>\n",
       "    <tr>\n",
       "      <th>max</th>\n",
       "      <td>13999.960000</td>\n",
       "      <td>14.000000</td>\n",
       "      <td>6719.980000</td>\n",
       "    </tr>\n",
       "  </tbody>\n",
       "</table>\n",
       "</div>"
      ],
      "text/plain": [
       "              Sales     Quantity       Profit\n",
       "count   3203.000000  3203.000000  3203.000000\n",
       "mean     226.493266     3.828910    33.849138\n",
       "std      524.876911     2.260947   174.109155\n",
       "min        0.990000     1.000000 -3399.980000\n",
       "25%       19.440000     2.000000     3.850000\n",
       "50%       60.840000     3.000000    11.170000\n",
       "75%      215.810000     5.000000    33.000000\n",
       "max    13999.960000    14.000000  6719.980000"
      ]
     },
     "execution_count": 16,
     "metadata": {},
     "output_type": "execute_result"
    }
   ],
   "source": [
    "df.describe()"
   ]
  },
  {
   "cell_type": "code",
   "execution_count": 17,
   "id": "346fa79a",
   "metadata": {},
   "outputs": [
    {
     "data": {
      "text/plain": [
       "Order ID         0\n",
       "Order Date       0\n",
       "Ship Date        0\n",
       "Customer Name    0\n",
       "Country          0\n",
       "City             0\n",
       "State            0\n",
       "Category         0\n",
       "Product Name     0\n",
       "Sales            0\n",
       "Quantity         0\n",
       "Profit           0\n",
       "dtype: int64"
      ]
     },
     "execution_count": 17,
     "metadata": {},
     "output_type": "execute_result"
    }
   ],
   "source": [
    "df.isna().sum()"
   ]
  },
  {
   "cell_type": "code",
   "execution_count": 18,
   "id": "b36a8726",
   "metadata": {},
   "outputs": [
    {
     "data": {
      "text/plain": [
       "0       False\n",
       "1       False\n",
       "2       False\n",
       "3       False\n",
       "4       False\n",
       "        ...  \n",
       "3198    False\n",
       "3199    False\n",
       "3200    False\n",
       "3201    False\n",
       "3202    False\n",
       "Length: 3203, dtype: bool"
      ]
     },
     "execution_count": 18,
     "metadata": {},
     "output_type": "execute_result"
    }
   ],
   "source": [
    "df.duplicated()"
   ]
  },
  {
   "cell_type": "code",
   "execution_count": 19,
   "id": "4a927cce",
   "metadata": {},
   "outputs": [
    {
     "data": {
      "text/plain": [
       "60.84"
      ]
     },
     "execution_count": 19,
     "metadata": {},
     "output_type": "execute_result"
    }
   ],
   "source": [
    "medSales=df[\"Sales\"].median()\n",
    "medSales"
   ]
  },
  {
   "cell_type": "code",
   "execution_count": 20,
   "id": "8464337e",
   "metadata": {},
   "outputs": [
    {
     "data": {
      "text/plain": [
       "11.17"
      ]
     },
     "execution_count": 20,
     "metadata": {},
     "output_type": "execute_result"
    }
   ],
   "source": [
    "medProfit=df[\"Profit\"].median()\n",
    "medProfit"
   ]
  },
  {
   "cell_type": "code",
   "execution_count": 21,
   "id": "ba370c54",
   "metadata": {},
   "outputs": [
    {
     "data": {
      "text/plain": [
       "3.0"
      ]
     },
     "execution_count": 21,
     "metadata": {},
     "output_type": "execute_result"
    }
   ],
   "source": [
    "medQuantity=df[\"Quantity\"].median()\n",
    "medQuantity"
   ]
  },
  {
   "cell_type": "code",
   "execution_count": 22,
   "id": "b4a2fd99",
   "metadata": {},
   "outputs": [
    {
     "data": {
      "text/plain": [
       "60.84"
      ]
     },
     "execution_count": 22,
     "metadata": {},
     "output_type": "execute_result"
    }
   ],
   "source": [
    "df[\"Sales\"].median()"
   ]
  },
  {
   "cell_type": "code",
   "execution_count": 23,
   "id": "9e6dd74c",
   "metadata": {},
   "outputs": [
    {
     "data": {
      "text/plain": [
       "226.49326568841644"
      ]
     },
     "execution_count": 23,
     "metadata": {},
     "output_type": "execute_result"
    }
   ],
   "source": [
    "df[\"Sales\"].mean()"
   ]
  },
  {
   "cell_type": "code",
   "execution_count": 24,
   "id": "eaaa7fae",
   "metadata": {},
   "outputs": [
    {
     "data": {
      "text/plain": [
       "Staples                                                              60\n",
       "Avery Non-Stick Binders                                               8\n",
       "Xerox 225                                                             7\n",
       "Cardinal Slant-D Ring Binder, Heavy Gauge Vinyl                       7\n",
       "Vinyl Sectional Post Binders                                          7\n",
       "                                                                     ..\n",
       "Bulldog Table or Wall-Mount Pencil Sharpener                          1\n",
       "Acco D-Ring Binder w/DublLock                                         1\n",
       "Logitech VX Revolution Cordless Laser Mouse for Notebooks (Black)     1\n",
       "Deluxe Rollaway Locking File with Drawer                              1\n",
       "Avery Binder Labels                                                   1\n",
       "Name: Product Name, Length: 1494, dtype: int64"
      ]
     },
     "execution_count": 24,
     "metadata": {},
     "output_type": "execute_result"
    }
   ],
   "source": [
    "df[\"Product Name\"].value_counts()"
   ]
  },
  {
   "cell_type": "code",
   "execution_count": 25,
   "id": "d62bf48d",
   "metadata": {},
   "outputs": [
    {
     "data": {
      "text/plain": [
       "1494"
      ]
     },
     "execution_count": 25,
     "metadata": {},
     "output_type": "execute_result"
    }
   ],
   "source": [
    "df[\"Product Name\"].nunique()"
   ]
  },
  {
   "cell_type": "code",
   "execution_count": 26,
   "id": "739596f4",
   "metadata": {},
   "outputs": [
    {
     "data": {
      "text/html": [
       "<div>\n",
       "<style scoped>\n",
       "    .dataframe tbody tr th:only-of-type {\n",
       "        vertical-align: middle;\n",
       "    }\n",
       "\n",
       "    .dataframe tbody tr th {\n",
       "        vertical-align: top;\n",
       "    }\n",
       "\n",
       "    .dataframe thead th {\n",
       "        text-align: right;\n",
       "    }\n",
       "</style>\n",
       "<table border=\"1\" class=\"dataframe\">\n",
       "  <thead>\n",
       "    <tr style=\"text-align: right;\">\n",
       "      <th></th>\n",
       "      <th>order id</th>\n",
       "      <th>order date</th>\n",
       "      <th>ship date</th>\n",
       "      <th>customer name</th>\n",
       "      <th>country</th>\n",
       "      <th>city</th>\n",
       "      <th>state</th>\n",
       "      <th>category</th>\n",
       "      <th>product name</th>\n",
       "      <th>sales</th>\n",
       "      <th>quantity</th>\n",
       "      <th>profit</th>\n",
       "    </tr>\n",
       "  </thead>\n",
       "  <tbody>\n",
       "    <tr>\n",
       "      <th>0</th>\n",
       "      <td>CA-2013-138688</td>\n",
       "      <td>13-06-2013</td>\n",
       "      <td>17-06-2013</td>\n",
       "      <td>Darrin Van Huff</td>\n",
       "      <td>United States</td>\n",
       "      <td>Los Angeles</td>\n",
       "      <td>California</td>\n",
       "      <td>Labels</td>\n",
       "      <td>Self-Adhesive Address Labels for Typewriters b...</td>\n",
       "      <td>14.62</td>\n",
       "      <td>2.0</td>\n",
       "      <td>6.87</td>\n",
       "    </tr>\n",
       "    <tr>\n",
       "      <th>1</th>\n",
       "      <td>CA-2011-115812</td>\n",
       "      <td>09-06-2011</td>\n",
       "      <td>14-06-2011</td>\n",
       "      <td>Brosina Hoffman</td>\n",
       "      <td>United States</td>\n",
       "      <td>Los Angeles</td>\n",
       "      <td>California</td>\n",
       "      <td>Furnishings</td>\n",
       "      <td>Eldon Expressions Wood and Plastic Desk Access...</td>\n",
       "      <td>48.86</td>\n",
       "      <td>7.0</td>\n",
       "      <td>14.17</td>\n",
       "    </tr>\n",
       "    <tr>\n",
       "      <th>2</th>\n",
       "      <td>CA-2011-115812</td>\n",
       "      <td>09-06-2011</td>\n",
       "      <td>14-06-2011</td>\n",
       "      <td>Brosina Hoffman</td>\n",
       "      <td>United States</td>\n",
       "      <td>Los Angeles</td>\n",
       "      <td>California</td>\n",
       "      <td>Art</td>\n",
       "      <td>Newell 322</td>\n",
       "      <td>7.28</td>\n",
       "      <td>4.0</td>\n",
       "      <td>1.97</td>\n",
       "    </tr>\n",
       "    <tr>\n",
       "      <th>3</th>\n",
       "      <td>CA-2011-115812</td>\n",
       "      <td>09-06-2011</td>\n",
       "      <td>14-06-2011</td>\n",
       "      <td>Brosina Hoffman</td>\n",
       "      <td>United States</td>\n",
       "      <td>Los Angeles</td>\n",
       "      <td>California</td>\n",
       "      <td>Phones</td>\n",
       "      <td>Mitel 5320 IP Phone VoIP phone</td>\n",
       "      <td>907.15</td>\n",
       "      <td>4.0</td>\n",
       "      <td>90.72</td>\n",
       "    </tr>\n",
       "    <tr>\n",
       "      <th>4</th>\n",
       "      <td>CA-2011-115812</td>\n",
       "      <td>09-06-2011</td>\n",
       "      <td>14-06-2011</td>\n",
       "      <td>Brosina Hoffman</td>\n",
       "      <td>United States</td>\n",
       "      <td>Los Angeles</td>\n",
       "      <td>California</td>\n",
       "      <td>Binders</td>\n",
       "      <td>DXL Angle-View Binders with Locking Rings by S...</td>\n",
       "      <td>18.50</td>\n",
       "      <td>3.0</td>\n",
       "      <td>5.78</td>\n",
       "    </tr>\n",
       "    <tr>\n",
       "      <th>...</th>\n",
       "      <td>...</td>\n",
       "      <td>...</td>\n",
       "      <td>...</td>\n",
       "      <td>...</td>\n",
       "      <td>...</td>\n",
       "      <td>...</td>\n",
       "      <td>...</td>\n",
       "      <td>...</td>\n",
       "      <td>...</td>\n",
       "      <td>...</td>\n",
       "      <td>...</td>\n",
       "      <td>...</td>\n",
       "    </tr>\n",
       "    <tr>\n",
       "      <th>3198</th>\n",
       "      <td>CA-2013-125794</td>\n",
       "      <td>30-09-2013</td>\n",
       "      <td>04-10-2013</td>\n",
       "      <td>Maris LaWare</td>\n",
       "      <td>United States</td>\n",
       "      <td>Los Angeles</td>\n",
       "      <td>California</td>\n",
       "      <td>Accessories</td>\n",
       "      <td>Memorex Mini Travel Drive 64 GB USB 2.0 Flash ...</td>\n",
       "      <td>36.24</td>\n",
       "      <td>1.0</td>\n",
       "      <td>15.22</td>\n",
       "    </tr>\n",
       "    <tr>\n",
       "      <th>3199</th>\n",
       "      <td>CA-2014-121258</td>\n",
       "      <td>27-02-2014</td>\n",
       "      <td>04-03-2014</td>\n",
       "      <td>Dave Brooks</td>\n",
       "      <td>United States</td>\n",
       "      <td>Costa Mesa</td>\n",
       "      <td>California</td>\n",
       "      <td>Furnishings</td>\n",
       "      <td>Tenex B1-RE Series Chair Mats for Low Pile Car...</td>\n",
       "      <td>91.96</td>\n",
       "      <td>2.0</td>\n",
       "      <td>15.63</td>\n",
       "    </tr>\n",
       "    <tr>\n",
       "      <th>3200</th>\n",
       "      <td>CA-2014-121258</td>\n",
       "      <td>27-02-2014</td>\n",
       "      <td>04-03-2014</td>\n",
       "      <td>Dave Brooks</td>\n",
       "      <td>United States</td>\n",
       "      <td>Costa Mesa</td>\n",
       "      <td>California</td>\n",
       "      <td>Phones</td>\n",
       "      <td>Aastra 57i VoIP phone</td>\n",
       "      <td>258.58</td>\n",
       "      <td>2.0</td>\n",
       "      <td>19.39</td>\n",
       "    </tr>\n",
       "    <tr>\n",
       "      <th>3201</th>\n",
       "      <td>CA-2014-121258</td>\n",
       "      <td>27-02-2014</td>\n",
       "      <td>04-03-2014</td>\n",
       "      <td>Dave Brooks</td>\n",
       "      <td>United States</td>\n",
       "      <td>Costa Mesa</td>\n",
       "      <td>California</td>\n",
       "      <td>Paper</td>\n",
       "      <td>It's Hot Message Books with Stickers, 2 3/4\" x 5\"</td>\n",
       "      <td>29.60</td>\n",
       "      <td>4.0</td>\n",
       "      <td>13.32</td>\n",
       "    </tr>\n",
       "    <tr>\n",
       "      <th>3202</th>\n",
       "      <td>CA-2014-119914</td>\n",
       "      <td>05-05-2014</td>\n",
       "      <td>10-05-2014</td>\n",
       "      <td>Chris Cortes</td>\n",
       "      <td>United States</td>\n",
       "      <td>Westminster</td>\n",
       "      <td>California</td>\n",
       "      <td>Appliances</td>\n",
       "      <td>Acco 7-Outlet Masterpiece Power Center, Wihtou...</td>\n",
       "      <td>243.16</td>\n",
       "      <td>2.0</td>\n",
       "      <td>72.95</td>\n",
       "    </tr>\n",
       "  </tbody>\n",
       "</table>\n",
       "<p>3203 rows × 12 columns</p>\n",
       "</div>"
      ],
      "text/plain": [
       "            order id  order date   ship date    customer name        country  \\\n",
       "0     CA-2013-138688  13-06-2013  17-06-2013  Darrin Van Huff  United States   \n",
       "1     CA-2011-115812  09-06-2011  14-06-2011  Brosina Hoffman  United States   \n",
       "2     CA-2011-115812  09-06-2011  14-06-2011  Brosina Hoffman  United States   \n",
       "3     CA-2011-115812  09-06-2011  14-06-2011  Brosina Hoffman  United States   \n",
       "4     CA-2011-115812  09-06-2011  14-06-2011  Brosina Hoffman  United States   \n",
       "...              ...         ...         ...              ...            ...   \n",
       "3198  CA-2013-125794  30-09-2013  04-10-2013     Maris LaWare  United States   \n",
       "3199  CA-2014-121258  27-02-2014  04-03-2014      Dave Brooks  United States   \n",
       "3200  CA-2014-121258  27-02-2014  04-03-2014      Dave Brooks  United States   \n",
       "3201  CA-2014-121258  27-02-2014  04-03-2014      Dave Brooks  United States   \n",
       "3202  CA-2014-119914  05-05-2014  10-05-2014     Chris Cortes  United States   \n",
       "\n",
       "             city       state     category  \\\n",
       "0     Los Angeles  California       Labels   \n",
       "1     Los Angeles  California  Furnishings   \n",
       "2     Los Angeles  California          Art   \n",
       "3     Los Angeles  California       Phones   \n",
       "4     Los Angeles  California      Binders   \n",
       "...           ...         ...          ...   \n",
       "3198  Los Angeles  California  Accessories   \n",
       "3199   Costa Mesa  California  Furnishings   \n",
       "3200   Costa Mesa  California       Phones   \n",
       "3201   Costa Mesa  California        Paper   \n",
       "3202  Westminster  California   Appliances   \n",
       "\n",
       "                                           product name   sales  quantity  \\\n",
       "0     Self-Adhesive Address Labels for Typewriters b...   14.62       2.0   \n",
       "1     Eldon Expressions Wood and Plastic Desk Access...   48.86       7.0   \n",
       "2                                            Newell 322    7.28       4.0   \n",
       "3                        Mitel 5320 IP Phone VoIP phone  907.15       4.0   \n",
       "4     DXL Angle-View Binders with Locking Rings by S...   18.50       3.0   \n",
       "...                                                 ...     ...       ...   \n",
       "3198  Memorex Mini Travel Drive 64 GB USB 2.0 Flash ...   36.24       1.0   \n",
       "3199  Tenex B1-RE Series Chair Mats for Low Pile Car...   91.96       2.0   \n",
       "3200                              Aastra 57i VoIP phone  258.58       2.0   \n",
       "3201  It's Hot Message Books with Stickers, 2 3/4\" x 5\"   29.60       4.0   \n",
       "3202  Acco 7-Outlet Masterpiece Power Center, Wihtou...  243.16       2.0   \n",
       "\n",
       "      profit  \n",
       "0       6.87  \n",
       "1      14.17  \n",
       "2       1.97  \n",
       "3      90.72  \n",
       "4       5.78  \n",
       "...      ...  \n",
       "3198   15.22  \n",
       "3199   15.63  \n",
       "3200   19.39  \n",
       "3201   13.32  \n",
       "3202   72.95  \n",
       "\n",
       "[3203 rows x 12 columns]"
      ]
     },
     "execution_count": 26,
     "metadata": {},
     "output_type": "execute_result"
    }
   ],
   "source": [
    "df.rename(str.lower, axis=1)"
   ]
  },
  {
   "cell_type": "code",
   "execution_count": 27,
   "id": "17439da6",
   "metadata": {},
   "outputs": [
    {
     "data": {
      "text/plain": [
       "Index(['Order ID', 'Order Date', 'Ship Date', 'Customer Name', 'Country',\n",
       "       'City', 'State', 'Category', 'Product Name', 'Sales', 'Quantity',\n",
       "       'Profit'],\n",
       "      dtype='object')"
      ]
     },
     "execution_count": 27,
     "metadata": {},
     "output_type": "execute_result"
    }
   ],
   "source": [
    "df.columns"
   ]
  },
  {
   "cell_type": "markdown",
   "id": "33399bca",
   "metadata": {},
   "source": [
    "# Data Visualization"
   ]
  },
  {
   "cell_type": "code",
   "execution_count": 28,
   "id": "2d33ae03",
   "metadata": {},
   "outputs": [
    {
     "data": {
      "text/plain": [
       "<AxesSubplot:>"
      ]
     },
     "execution_count": 28,
     "metadata": {},
     "output_type": "execute_result"
    },
    {
     "data": {
      "image/png": "[encoded data removed]",
      "text/plain": [
       "<Figure size 720x504 with 2 Axes>"
      ]
     },
     "metadata": {
      "needs_background": "light"
     },
     "output_type": "display_data"
    }
   ],
   "source": [
    "plt.figure(figsize=(10,7))\n",
    "sns.heatmap(df.corr(),annot=True,cmap=\"gist_heat_r\")"
   ]
  },
  {
   "cell_type": "code",
   "execution_count": 29,
   "id": "9fc7e17c",
   "metadata": {},
   "outputs": [
    {
     "data": {
      "text/plain": [
       "<AxesSubplot:xlabel='Category', ylabel='Count'>"
      ]
     },
     "execution_count": 29,
     "metadata": {},
     "output_type": "execute_result"
    },
    {
     "data": {
      "image/png": "[encoded data removed]",
      "text/plain": [
       "<Figure size 1440x360 with 1 Axes>"
      ]
     },
     "metadata": {
      "needs_background": "light"
     },
     "output_type": "display_data"
    }
   ],
   "source": [
    "plt.figure(figsize=(20,5))\n",
    "sns.histplot(df[\"Category\"])"
   ]
  },
  {
   "cell_type": "code",
   "execution_count": 30,
   "id": "4480da5c",
   "metadata": {},
   "outputs": [
    {
     "data": {
      "text/plain": [
       "Binders        471\n",
       "Paper          450\n",
       "Furnishings    304\n",
       "Phones         277\n",
       "Storage        266\n",
       "Accessories    258\n",
       "Art            250\n",
       "Chairs         207\n",
       "Appliances     136\n",
       "Tables         116\n",
       "Labels         116\n",
       "Bookcases       80\n",
       "Fasteners       72\n",
       "Supplies        69\n",
       "Envelopes       67\n",
       "Machines        39\n",
       "Copiers         25\n",
       "Name: Category, dtype: int64"
      ]
     },
     "execution_count": 30,
     "metadata": {},
     "output_type": "execute_result"
    }
   ],
   "source": [
    "df[\"Category\"].value_counts()"
   ]
  },
  {
   "cell_type": "markdown",
   "id": "8ecbea88",
   "metadata": {},
   "source": [
    "### Most ordered material category = Binders, Paper"
   ]
  },
  {
   "cell_type": "markdown",
   "id": "bb09cc11",
   "metadata": {},
   "source": [
    "#"
   ]
  },
  {
   "cell_type": "code",
   "execution_count": 31,
   "id": "3f90518d",
   "metadata": {},
   "outputs": [
    {
     "data": {
      "text/plain": [
       "<AxesSubplot:xlabel='State', ylabel='Count'>"
      ]
     },
     "execution_count": 31,
     "metadata": {},
     "output_type": "execute_result"
    },
    {
     "data": {
      "image/png": "[encoded data removed]",
      "text/plain": [
       "<Figure size 864x360 with 1 Axes>"
      ]
     },
     "metadata": {
      "needs_background": "light"
     },
     "output_type": "display_data"
    }
   ],
   "source": [
    "plt.figure(figsize=(12,5))\n",
    "sns.histplot(df[\"State\"])"
   ]
  },
  {
   "cell_type": "markdown",
   "id": "7146f2d0",
   "metadata": {},
   "source": [
    "### Most orders are getting from California State"
   ]
  },
  {
   "cell_type": "code",
   "execution_count": 32,
   "id": "3b96fd08",
   "metadata": {},
   "outputs": [
    {
     "data": {
      "text/plain": [
       "California    2001\n",
       "Washington     506\n",
       "Arizona        224\n",
       "Colorado       182\n",
       "Oregon         124\n",
       "Utah            53\n",
       "Nevada          39\n",
       "New Mexico      37\n",
       "Idaho           21\n",
       "Montana         15\n",
       "Wyoming          1\n",
       "Name: State, dtype: int64"
      ]
     },
     "execution_count": 32,
     "metadata": {},
     "output_type": "execute_result"
    }
   ],
   "source": [
    "df[\"State\"].value_counts()"
   ]
  },
  {
   "cell_type": "code",
   "execution_count": 33,
   "id": "c48e1bf0",
   "metadata": {},
   "outputs": [
    {
     "data": {
      "text/plain": [
       "0       False\n",
       "1       False\n",
       "2       False\n",
       "3       False\n",
       "4       False\n",
       "        ...  \n",
       "3198    False\n",
       "3199    False\n",
       "3200    False\n",
       "3201    False\n",
       "3202    False\n",
       "Name: Order Date, Length: 3203, dtype: bool"
      ]
     },
     "execution_count": 33,
     "metadata": {},
     "output_type": "execute_result"
    }
   ],
   "source": [
    "filter= df[\"Order Date\"].isin(['13-6-2013'])\n",
    "filter"
   ]
  },
  {
   "cell_type": "code",
   "execution_count": 34,
   "id": "d02160f3",
   "metadata": {},
   "outputs": [
    {
     "data": {
      "text/plain": [
       "Los Angeles        747\n",
       "San Francisco      510\n",
       "Seattle            428\n",
       "San Diego          170\n",
       "Phoenix             63\n",
       "                  ... \n",
       "San Mateo            1\n",
       "Citrus Heights       1\n",
       "Santa Maria          1\n",
       "Murrieta             1\n",
       "San Luis Obispo      1\n",
       "Name: City, Length: 169, dtype: int64"
      ]
     },
     "execution_count": 34,
     "metadata": {},
     "output_type": "execute_result"
    }
   ],
   "source": [
    "df[\"City\"].value_counts()"
   ]
  },
  {
   "cell_type": "code",
   "execution_count": 35,
   "id": "13cea2d1",
   "metadata": {},
   "outputs": [
    {
     "name": "stderr",
     "output_type": "stream",
     "text": [
      "C:\\Users\\nikhi\\anaconda3\\lib\\site-packages\\seaborn\\distributions.py:2557: FutureWarning: `distplot` is a deprecated function and will be removed in a future version. Please adapt your code to use either `displot` (a figure-level function with similar flexibility) or `histplot` (an axes-level function for histograms).\n",
      "  warnings.warn(msg, FutureWarning)\n"
     ]
    },
    {
     "data": {
      "text/plain": [
       "<function matplotlib.pyplot.show(close=None, block=None)>"
      ]
     },
     "execution_count": 35,
     "metadata": {},
     "output_type": "execute_result"
    },
    {
     "data": {
      "image/png": "[encoded data removed]",
      "text/plain": [
       "<Figure size 432x288 with 1 Axes>"
      ]
     },
     "metadata": {
      "needs_background": "light"
     },
     "output_type": "display_data"
    }
   ],
   "source": [
    "data = sns.load_dataset(\"iris\")\n",
    "sns.distplot(data[\"sepal_length\"])\n",
    "plt.show"
   ]
  },
  {
   "cell_type": "code",
   "execution_count": 42,
   "id": "c9f904f6",
   "metadata": {},
   "outputs": [
    {
     "data": {
      "text/plain": [
       "<AxesSubplot:ylabel='State'>"
      ]
     },
     "execution_count": 42,
     "metadata": {},
     "output_type": "execute_result"
    },
    {
     "data": {
      "image/png": "[encoded data removed]",
      "text/plain": [
       "<Figure size 432x288 with 1 Axes>"
      ]
     },
     "metadata": {},
     "output_type": "display_data"
    }
   ],
   "source": [
    "df.State.value_counts().plot.pie()"
   ]
  },
  {
   "cell_type": "code",
   "execution_count": 47,
   "id": "783ba68d",
   "metadata": {},
   "outputs": [],
   "source": [
    "df.get(\"order date\")"
   ]
  },
  {
   "cell_type": "code",
   "execution_count": 49,
   "id": "11e88d1f",
   "metadata": {},
   "outputs": [
    {
     "data": {
      "text/plain": [
       "[Text(0, 0, 'Labels'),\n",
       " Text(1, 0, 'Furnishings'),\n",
       " Text(2, 0, 'Art'),\n",
       " Text(3, 0, 'Phones'),\n",
       " Text(4, 0, 'Binders'),\n",
       " Text(5, 0, 'Appliances'),\n",
       " Text(6, 0, 'Tables'),\n",
       " Text(7, 0, 'Storage'),\n",
       " Text(8, 0, 'Accessories'),\n",
       " Text(9, 0, 'Paper'),\n",
       " Text(10, 0, 'Chairs'),\n",
       " Text(11, 0, 'Fasteners'),\n",
       " Text(12, 0, 'Supplies'),\n",
       " Text(13, 0, 'Envelopes'),\n",
       " Text(14, 0, 'Copiers'),\n",
       " Text(15, 0, 'Bookcases'),\n",
       " Text(16, 0, 'Machines')]"
      ]
     },
     "execution_count": 49,
     "metadata": {},
     "output_type": "execute_result"
    },
    {
     "data": {
      "image/png": "[encoded data removed]",
      "text/plain": [
       "<Figure size 432x288 with 1 Axes>"
      ]
     },
     "metadata": {
      "needs_background": "light"
     },
     "output_type": "display_data"
    }
   ],
   "source": [
    "g= sns.countplot(x= \"Category\", data = df , palette = \"Greens_d\");\n",
    "g.set_xticklabels(g.get_xticklabels(), rotation = 90)"
   ]
  },
  {
   "cell_type": "code",
   "execution_count": null,
   "id": "f538980e",
   "metadata": {},
   "outputs": [],
   "source": []
  },
  {
   "cell_type": "code",
   "execution_count": null,
   "id": "ce5e8c98",
   "metadata": {},
   "outputs": [],
   "source": []
  },
  {
   "cell_type": "code",
   "execution_count": null,
   "id": "e2e576c3",
   "metadata": {},
   "outputs": [],
   "source": []
  },
  {
   "cell_type": "code",
   "execution_count": null,
   "id": "adab6382",
   "metadata": {},
   "outputs": [],
   "source": []
  },
  {
   "cell_type": "code",
   "execution_count": null,
   "id": "894402ad",
   "metadata": {},
   "outputs": [],
   "source": []
  }
 ],
 "metadata": {
  "kernelspec": {
   "display_name": "Python 3",
   "language": "python",
   "name": "python3"
  },
  "language_info": {
   "codemirror_mode": {
    "name": "ipython",
    "version": 3
   },
   "file_extension": ".py",
   "mimetype": "text/x-python",
   "name": "python",
   "nbconvert_exporter": "python",
   "pygments_lexer": "ipython3",
   "version": "3.8.8"
  }
 },
 "nbformat": 4,
 "nbformat_minor": 5
}
